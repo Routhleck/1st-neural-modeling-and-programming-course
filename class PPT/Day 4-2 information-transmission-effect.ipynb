{
 "cells": [
  {
   "cell_type": "markdown",
   "id": "45f47476-165c-46d7-82b4-874e8c837d72",
   "metadata": {},
   "source": [
    "# Effects on Information transmission of STP\n",
    "## Rate-based STP model\n",
    "We investigate the information transmission of STP by studying the time average response of short-term plasticity. \n",
    "By doing so, the spiking-based STP model is transfered to rate-based STP model, which can be written as,\n",
    "$$\\frac{du(t)}{dt}=-\\frac{u(t)}{\\tau_f}+U[1-u(t)]R(t)$$\n",
    "$$\\frac{dx(t)}{dt}=\\frac{1-x(t)}{\\tau_d}-u^+x(t)R(t)$$\n",
    "$$g(t) = \\tau_s g_{max} u^+ x(t)R(t)$$\n",
    "$$u^+ = u+U(1-u)$$\n",
    "### Customize the rate-based STP model"
   ]
  },
  {
   "cell_type": "code",
   "execution_count": null,
   "id": "78e7a936-6498-48b2-b6ff-e06d2fcee1f1",
   "metadata": {},
   "outputs": [],
   "source": [
    "class STP_rate(bp.DynamicalSystemNS): \n",
    "    def __init__(self, tau_d=500., tau_f=500., U=0.15, tau=8., g_max=0.1, method='exp_auto'):\n",
    "        super(STP_rate, self).__init__()\n",
    "        # 初始化参数\n",
    "        self.tau_d = tau_d\n",
    "        self.tau_f = tau_f\n",
    "        self.tau = tau\n",
    "        self.g_max = g_max\n",
    "        self.U = U\n",
    "        # 初始化变量\n",
    "        self.x = bm.Variable(bm.ones(1))\n",
    "        self.u = bm.Variable(bm.zeros(1))\n",
    "        self.g = bm.Variable(bm.zeros(1))\n",
    "\n",
    "        # 定义积分函数\n",
    "        self.integral = bp.odeint(method=method, f=self.derivative)\n",
    "    @property\n",
    "    def derivative(self):\n",
    "        du = lambda u, t, input: -u / self.tau_f + self.U * (1 - u) * input #input指的是pre-synaptic firing rate R(t)\n",
    "        dx = lambda x, t, u, input: (1 - x) / self.tau_d - (u + self.U * (1 - u)) * x * input\n",
    "        return bp.JointEq([du, dx])\n",
    "\n",
    "    def update(self, input_):\n",
    "        # 更新各个变量\n",
    "        u, x = self.integral(self.u, self.x, bp.share['t'],  input_, bm.dt)\n",
    "        self.u.value = u\n",
    "        self.x.value = x\n",
    "        self.g.value = self.tau * self.g_max * (u + self.U * (1 - u)) * x * input_"
   ]
  },
  {
   "cell_type": "markdown",
   "id": "f636c703-d37b-48fb-b343-65b766677d3a",
   "metadata": {},
   "source": [
    "### Compare the simulation results of spiking-based STP model and rate-based STP model\n",
    "To verify whether the rate-based model replicate the time-average response spiking-based STP model, we compare the simulation results of spiking-based STP and rate-based STP,"
   ]
  },
  {
   "cell_type": "code",
   "execution_count": 1,
   "id": "75ba8ca5-1bdb-4cb5-a881-b0d5abe748d8",
   "metadata": {},
   "outputs": [
    {
     "ename": "NameError",
     "evalue": "name 'Pre_spike_generator' is not defined",
     "output_type": "error",
     "traceback": [
      "\u001b[0;31m---------------------------------------------------------------------------\u001b[0m",
      "\u001b[0;31mNameError\u001b[0m                                 Traceback (most recent call last)",
      "Cell \u001b[0;32mIn[1], line 68\u001b[0m\n\u001b[1;32m     66\u001b[0m     ax[\u001b[38;5;241m3\u001b[39m]\u001b[38;5;241m.\u001b[39mspines[\u001b[38;5;124m'\u001b[39m\u001b[38;5;124mtop\u001b[39m\u001b[38;5;124m'\u001b[39m]\u001b[38;5;241m.\u001b[39mset_color(\u001b[38;5;124m'\u001b[39m\u001b[38;5;124mnone\u001b[39m\u001b[38;5;124m'\u001b[39m)\n\u001b[1;32m     67\u001b[0m     plt\u001b[38;5;241m.\u001b[39mshow()\n\u001b[0;32m---> 68\u001b[0m \u001b[43mcompare_spike_rate_Stp\u001b[49m\u001b[43m(\u001b[49m\u001b[43m)\u001b[49m\n",
      "Cell \u001b[0;32mIn[1], line 10\u001b[0m, in \u001b[0;36mcompare_spike_rate_Stp\u001b[0;34m(tau_d, tau_f, U)\u001b[0m\n\u001b[1;32m      7\u001b[0m fr_3 \u001b[38;5;241m=\u001b[39m \u001b[38;5;241m80\u001b[39m\n\u001b[1;32m      8\u001b[0m \u001b[38;5;66;03m# 假设pre-synaptic spike 的频率在0-1000ms是1hz，在1000-2000ms是10hz，在2000-3000ms是20hz，\u001b[39;00m\n\u001b[1;32m      9\u001b[0m \u001b[38;5;66;03m# 模拟spike based stp,\u001b[39;00m\n\u001b[0;32m---> 10\u001b[0m spike_1 \u001b[38;5;241m=\u001b[39m \u001b[43mPre_spike_generator\u001b[49m(\u001b[38;5;28mtype\u001b[39m\u001b[38;5;241m=\u001b[39m\u001b[38;5;124m'\u001b[39m\u001b[38;5;124mRegular\u001b[39m\u001b[38;5;124m'\u001b[39m, fr\u001b[38;5;241m=\u001b[39mfr_1, T\u001b[38;5;241m=\u001b[39mT1)\n\u001b[1;32m     11\u001b[0m spike_2 \u001b[38;5;241m=\u001b[39m Pre_spike_generator(\u001b[38;5;28mtype\u001b[39m\u001b[38;5;241m=\u001b[39m\u001b[38;5;124m'\u001b[39m\u001b[38;5;124mRegular\u001b[39m\u001b[38;5;124m'\u001b[39m, fr\u001b[38;5;241m=\u001b[39mfr_2, T\u001b[38;5;241m=\u001b[39mT2)\n\u001b[1;32m     12\u001b[0m spike_3 \u001b[38;5;241m=\u001b[39m Pre_spike_generator(\u001b[38;5;28mtype\u001b[39m\u001b[38;5;241m=\u001b[39m\u001b[38;5;124m'\u001b[39m\u001b[38;5;124mRegular\u001b[39m\u001b[38;5;124m'\u001b[39m, fr\u001b[38;5;241m=\u001b[39mfr_3, T\u001b[38;5;241m=\u001b[39mT3)\n",
      "\u001b[0;31mNameError\u001b[0m: name 'Pre_spike_generator' is not defined"
     ]
    }
   ],
   "source": [
    "\n",
    "def compare_spike_rate_Stp(tau_d=500., tau_f=10., U=0.15):\n",
    "    T1 = 500\n",
    "    T2 = 500\n",
    "    T3 = 500\n",
    "    fr_1 = 15\n",
    "    fr_2 = 30\n",
    "    fr_3 = 80\n",
    "    # 假设pre-synaptic spike 的频率在0-1000ms是1hz，在1000-2000ms是10hz，在2000-3000ms是20hz，\n",
    "    # 模拟spike based stp,\n",
    "    spike_1 = Pre_spike_generator(type='Regular', fr=fr_1, T=T1)\n",
    "    spike_2 = Pre_spike_generator(type='Regular', fr=fr_2, T=T2)\n",
    "    spike_3 = Pre_spike_generator(type='Regular', fr=fr_3, T=T3)\n",
    "    spike_train = np.concatenate((spike_1, spike_2, spike_3))\n",
    "    spike_time = np.where(spike_train == 1)[0]\n",
    "    neu1 = bp.neurons.SpikeTimeGroup(1, times=spike_time, indices=[0] * len(spike_time))\n",
    "    neu2 = bp.neurons.LIF(1)\n",
    "    syn1 = STP(neu1, neu2, conn=bp.connect.All2All(), tau_d=tau_d, tau_f=tau_f, U=U)\n",
    "    net = bp.Network(pre=neu1, syn=syn1, post=neu2)\n",
    "    runner_spike = bp.DSRunner(net, monitors=['pre.spike', 'post.V', 'syn.g', 'syn.x', 'syn.u', 'post.input'])\n",
    "    runner_spike.run(T1 + T2 + T3)\n",
    "    \n",
    "    # 模拟rate based stp,\n",
    "    dyn_sys = STP_rate(tau_d=tau_d, tau_f=tau_f, U=U)\n",
    "    # 分段电流\n",
    "    inputs = bp.inputs.section_input(values=[fr_1 * 1e-3, fr_2 * 1e-3, fr_3 * 1e-3],\n",
    "                                     durations=[T1, T2, T3])\n",
    "    # 运行模拟\n",
    "    runner_rate = bp.DSRunner(dyn_sys, monitors=['u', 'x', 'g'])\n",
    "    runner_rate.run(inputs=inputs)\n",
    "\n",
    "    # 可视化\n",
    "    fig1, ax = plt.subplots(4, 1, figsize=(6, 6))\n",
    "    ax[0].plot(runner_spike.mon.ts, runner_spike.mon['pre.spike'][:, 0], label='pre.spike')\n",
    "    ax[0].legend()\n",
    "    ax[0].set_xlabel(r'$t$ (ms)')\n",
    "    ax[0].set_ylabel('spike')\n",
    "    ax[0].spines['right'].set_color('none')\n",
    "    ax[0].spines['top'].set_color('none')\n",
    "    x_spike = runner_spike.mon['syn.x'][:, 0]\n",
    "    x_rate = runner_rate.mon['x'][:, 0]\n",
    "    ax[1].plot(runner_spike.mon.ts, x_spike, label='spike-based model')\n",
    "    ax[1].plot(runner_rate.mon.ts, x_rate, label='rate-based model')\n",
    "    ax[1].legend()\n",
    "    ax[1].set_xlabel(r'$t$ (ms)')\n",
    "    ax[1].set_ylabel('x')\n",
    "    ax[1].spines['right'].set_color('none')\n",
    "    ax[1].spines['top'].set_color('none')\n",
    "    u_spike = runner_spike.mon['syn.u'][:, 0]\n",
    "    u_rate = runner_rate.mon['u'][:, 0]\n",
    "    ax[2].plot(runner_spike.mon.ts, u_spike, label='spike-based model')\n",
    "    ax[2].plot(runner_rate.mon.ts, u_rate, label='rate-based model')\n",
    "    ax[2].legend()\n",
    "    ax[2].set_xlabel(r'$t$ (ms)')\n",
    "    ax[2].set_ylabel('u')\n",
    "    ax[2].spines['right'].set_color('none')\n",
    "    ax[2].spines['top'].set_color('none')\n",
    "\n",
    "    g_spike = runner_spike.mon['syn.g'][:, 0]\n",
    "    g_rate = runner_rate.mon['g'][:, 0]\n",
    "    ax[3].plot(runner_spike.mon.ts, g_spike, label='spike-based model')\n",
    "    ax[3].plot(runner_rate.mon.ts, g_rate, label='rate-based model')\n",
    "    ax[3].legend()\n",
    "    ax[3].set_xlabel(r'$t$ (ms)')\n",
    "    ax[3].set_ylabel('g')\n",
    "    ax[3].spines['right'].set_color('none')\n",
    "    ax[3].spines['top'].set_color('none')\n",
    "    plt.show()\n",
    "compare_spike_rate_Stp()"
   ]
  },
  {
   "cell_type": "code",
   "execution_count": null,
   "id": "ec06238c-0be1-48a9-bb95-f5914b0e196d",
   "metadata": {},
   "outputs": [],
   "source": []
  }
 ],
 "metadata": {
  "kernelspec": {
   "display_name": "Python 3 (ipykernel)",
   "language": "python",
   "name": "python3"
  },
  "language_info": {
   "codemirror_mode": {
    "name": "ipython",
    "version": 3
   },
   "file_extension": ".py",
   "mimetype": "text/x-python",
   "name": "python",
   "nbconvert_exporter": "python",
   "pygments_lexer": "ipython3",
   "version": "3.8.8"
  }
 },
 "nbformat": 4,
 "nbformat_minor": 5
}
