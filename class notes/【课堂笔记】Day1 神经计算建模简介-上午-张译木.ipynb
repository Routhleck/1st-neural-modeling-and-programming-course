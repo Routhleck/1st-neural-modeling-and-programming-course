{
 "cells": [
  {
   "cell_type": "markdown",
   "metadata": {},
   "source": [
    "# Day1"
   ]
  },
  {
   "cell_type": "markdown",
   "metadata": {},
   "source": [
    "## 上午-神经计算建模简介"
   ]
  },
  {
   "cell_type": "markdown",
   "metadata": {},
   "source": [
    "### **01 计算神经科学的背景和使命**"
   ]
  },
  {
   "cell_type": "markdown",
   "metadata": {},
   "source": [
    "▶️计算神经科学是连接脑科学和类脑智能的桥梁  \n",
    "\n",
    "**目标**：\n",
    "1 阐明大脑功能计算原理  \n",
    "2 开发类脑智能的模型和算法  \n",
    "\n",
    "**历史**：  \n",
    "1907～  \n",
    "LIF model 神经元 HH的简化（虽然出现的比HH早）  \n",
    "HH model 离子通道 动作电位 ▶️最基本的模型  \n",
    "Roll's cabel equation 信号传递（轴突/树突）精细结构是否是不可或缺的？与神经网络的重要性相比？ ▶️本次课程不包含  \n",
    "Amari, Wilson, Cowan et al. 应用数学领域  \n",
    "Hopfield model (Amari-Hopfield model) 物理学 动力学的融入  \n",
    "Sejnowski et al. \"computational Neuroscience\" (Science) 计算神经科学诞生  \n",
    "\n",
    "**脑科学三层次**  \n",
    "computational theory 概念层次 大脑在做什么？▶️psychology & cognitive science  ▶️Human-like cognitive function  如何设计人工智能？想要实现什么功能？  \n",
    "representation & Algorithm 如何实现计算？ ▶️computational neuroscience ▶️Brain-inspired model & algorithm 如何实现具体类脑应用  \n",
    "implementation 生物系统如何实现？ ▶️neuroscience ▶️Neuromorphic computing 如何像人脑一样的工作  \n",
    "\n",
    "**计算神经科学的使命**  \n",
    "_What I can not create, I do not understand.  -- Richard Philips Feynman_  \n",
    "What I can not build a computational model, I do not understand.  "
   ]
  },
  {
   "cell_type": "markdown",
   "metadata": {},
   "source": [
    "### **02 神经计算建模的目标和挑战**"
   ]
  },
  {
   "cell_type": "markdown",
   "metadata": {},
   "source": [
    "**Deep learning**  \n",
    "alphago  \n",
    "image recognition  \n",
    "局限性：图像理解 全局认知（轮廓） 运动识别  \n",
    "\n",
    "**大脑是用来处理动态信息的**  \n",
    "大脑帮助人类和环境进行交互 处理动态信息 包括：  \n",
    "1. 动态视觉光流信号  retina-LGN-V1  \n",
    "2. 动态脉冲序列传播  \n",
    "3. 动态交互的信息加工 feedback/forward  working memory  \n",
    "4. 动态跨脑区信息整合  \n",
    "\n",
    "**类脑智能面临的挑战**  \n",
    "为什么拿不出好的应用？ \n",
    "missing link：a computational model of higher cognitive function  \n",
    "目前没有任何一个成功的模型 从神经元出发到系统层次实现大脑高级认知功能  \n",
    "大数据的启示：借鉴生物学规律 用数据驱动 训练网络  "
   ]
  },
  {
   "cell_type": "markdown",
   "metadata": {},
   "source": [
    "### **03 神经计算建模的工具**"
   ]
  },
  {
   "cell_type": "markdown",
   "metadata": {},
   "source": [
    "人工智能领域 pytorch/tensorflow 打包AI模型  \n",
    "计算神经建模领域工具设计需求：  \n",
    "mutiple-scale  \n",
    "large-scale  \n",
    "multiple purposes  \n",
    "工具设计目标：降低计算建模的门槛  \n",
    "目前有的工具无法满足计算效率要求以及对模型整合和编程框架灵活性 可拓展性的要求     \n",
    "**Brainpy**  \n",
    "infrastructure  \n",
    "function  \n",
    "just-in-time  \n",
    "compilation device  "
   ]
  },
  {
   "cell_type": "markdown",
   "metadata": {},
   "source": [
    "### **04 神经计算建模举例**"
   ]
  },
  {
   "cell_type": "markdown",
   "metadata": {},
   "source": [
    "**Global vs. Local information processing**  \n",
    "deeplearning 模拟人脑对模糊/抽象信息的处理  \n",
    "DNNs 模拟视觉系统腹侧通路 重视细节 缺少对整体的理解  \n",
    "**大脑top-down信息处理方法**  \n",
    "image understanding = image segmentaion + object recognition    \n",
    "人的感知 整体-局部 简单-局部  \n",
    "eg. 高级视觉脑区先猜测物体再feedback到V1识别物体  \n",
    "Reverse hierarchy theory   \n",
    "Blind Sight 皮层下通路（retina-SC）是完好的 所以能感知障碍物  \n",
    "looming stimulus 小鼠SC的参与  \n",
    "two pathways for visual information processing 二者相辅相成 灵活加工视觉信息  \n",
    "快速识别 皮层下通路/背侧通路  \n",
    "慢速识别 精细加工 腹侧通路  \n",
    "**对计算建模的启示（尚未解决的问题）**  \n",
    "**global和local的features是什么**  \n",
    "**如何提取global features**   \n",
    "global first = topology first（大范围首先，陈霖）  \n",
    "视觉系统更敏感于拓扑性质的差异 feedforward网络对拓扑性质识别非常差   \n",
    "retina（ipRGC）-SC网络 检测拓扑性质 gap junction 神经元同步化 不应期  \n",
    "A decision-making module  reservoir module(retina)-- dicision-making module(SC)  \n",
    "A motion-pattern recognition model  \n",
    "**如何产生对global物体的猜测**  \n",
    "Attractor neural network  大脑地形图 做快速记忆检索  \n",
    "levy flight 快速跳动➕局部细节探索  \n",
    "动物对空间的探索 eyemovement  \n",
    "**如何实现global to local 的feedback**  \n",
    "Push-pull feedback  \n",
    "A Hierarchical Hopfield Model  \n",
    "Dynamical Push-pull feedback 早期正反馈 晚期负反馈  \n",
    "A two-pathway model for object recognition  \n",
    "连接fineNet和coarseNet 暂时不关注生物学的合理性  \n",
    "解释了visual masking现象  "
   ]
  },
  {
   "cell_type": "markdown",
   "metadata": {},
   "source": []
  }
 ],
 "metadata": {
  "kernelspec": {
   "display_name": "bdp",
   "language": "python",
   "name": "python3"
  },
  "language_info": {
   "codemirror_mode": {
    "name": "ipython",
    "version": 3
   },
   "file_extension": ".py",
   "mimetype": "text/x-python",
   "name": "python",
   "nbconvert_exporter": "python",
   "pygments_lexer": "ipython3",
   "version": "3.9.17"
  },
  "orig_nbformat": 4
 },
 "nbformat": 4,
 "nbformat_minor": 2
}
